{
 "cells": [
  {
   "cell_type": "markdown",
   "id": "5f1453e00ba07110",
   "metadata": {},
   "source": [
    "### Závěrečný projekt - modul Python"
   ]
  },
  {
   "cell_type": "markdown",
   "id": "80f51208356c3824",
   "metadata": {},
   "source": [
    "V tomto projektu proběhla analýza dat ze webové stránky `www.sreality.cz`, kde byla  získána  aktuální nabídka bytů ve Zlíně.\n",
    "Projekt se dělí na 3 části:\n",
    "1. WebScraping - pomocí knihovny `BeautifulSoup` byly získány všechny aktuální inzerce bytů v daném městě. \n",
    "- Byly získány  **tyto** informace: `URL odkaz bytu, rozměry bytu, kompozice bytu, cena bytu, lokace bytu (ulice + město)`\n",
    "2. Datová analýza - ETL proces\n",
    "- V první fázi byl proveden processing dat tak, aby obsahoval příslušné datové typy, nenulové hodnoty a podobně.\n",
    "- Zprocesovaná a vyčištěná data byla vyexporotvána do `.csv` souboru.\n",
    "3. Datová analýza\n",
    "- V třetí části byl do dataframe nahrán vyexportovaný `.csv` soubor s vyscrapovanými daty.\n",
    "- V této fázi byla provedna analýza dat, kde byly zodpovězeny tyto dotazy:\n",
    "- `Jaká je průměrná cena bytů?`\n",
    "- `Jaká je průměrná cena bytů pro každou kompozici (1+1, 2+1, atp.)?`\n",
    "- `Jaká je průměrná velikost bytu pro každou kompozici?`\n",
    "- `Existuje ulice, kde je vyšší koncentrace dražších bytů?`\n",
    "- `Jaký typ kompozice je v daném městě nejčastěji inzerovan?`\n",
    "- `Existují zde inzerce bytů, které stojí více, než 20.000,-? Pokud ano, jsou v této cenové hladině inzerovány i maximálně dvoupokojové byty (2+1/2+kk)?`\n",
    "- `Jaká je minimální a maximální cena inzerce pro každou kompozici bytu? Která kompozice má největší rozptyl mezi minimální a maximální inzerovanou cenou?`\n"
   ]
  },
  {
   "cell_type": "markdown",
   "id": "59dc9d3b2384bd4e",
   "metadata": {},
   "source": [
    "### WebScraping"
   ]
  },
  {
   "cell_type": "code",
   "execution_count": 135,
   "id": "initial_id",
   "metadata": {
    "collapsed": true
   },
   "outputs": [
    {
     "name": "stdout",
     "output_type": "stream",
     "text": [
      "14 000 Kč/měsíc\n",
      "14 000 Kč/měsíc\n",
      "19 500 Kč/měsíc\n",
      "19 000 Kč/měsíc\n",
      "12 000 Kč/měsíc\n",
      "9 000 Kč/měsíc\n",
      "15 000 Kč/měsíc\n",
      "17 900 Kč/měsíc\n",
      "12 000 Kč/měsíc\n",
      "9 900 Kč/měsíc\n",
      "15 900 Kč/měsíc\n",
      "15 500 Kč/měsíc\n",
      "16 000 Kč/měsíc\n",
      "18 000 Kč/měsíc\n",
      "19 000 Kč/měsíc\n",
      "10 000 Kč/měsíc\n",
      "20 900 Kč/měsíc\n",
      "13 000 Kč/měsíc\n",
      "16 500 Kč/měsíc\n",
      "Cena na vyžádání\n",
      "12 000 Kč/měsíc\n",
      "Scrapuju stránku č. 2\n",
      "14 000 Kč/měsíc\n",
      "7 000 Kč/měsíc\n",
      "11 000 Kč/měsíc\n",
      "19 000 Kč/měsíc\n",
      "16 300 Kč/měsíc\n",
      "17 500 Kč/měsíc\n",
      "18 500 Kč/měsíc\n",
      "18 500 Kč/měsíc\n",
      "25 000 Kč/měsíc\n",
      "3 800 Kč/měsíc\n",
      "18 000 Kč/měsíc\n",
      "11 500 Kč/měsíc\n",
      "8 300 Kč/měsíc\n",
      "Cena na vyžádání\n",
      "18 700 Kč/měsíc\n",
      "14 900 Kč/měsíc\n",
      "16 000 Kč/měsíc\n",
      "25 000 Kč/měsíc\n",
      "Cena na vyžádání\n",
      "17 000 Kč/měsíc\n",
      "10 000 Kč/měsíc\n",
      "Scrapuju stránku č. 3\n",
      "9 500 Kč/měsíc\n",
      "14 000 Kč/měsíc\n",
      "10 000 Kč/měsíc\n",
      "16 000 Kč/měsíc\n",
      "18 000 Kč/měsíc\n",
      "15 000 Kč/měsíc\n",
      "15 500 Kč/měsíc\n",
      "20 690 Kč/měsíc\n",
      "14 900 Kč/měsíc\n",
      "17 500 Kč/měsíc\n",
      "15 800 Kč/měsíc\n",
      "14 000 Kč/měsíc\n",
      "10 400 Kč/měsíc\n",
      "9 000 Kč/měsíc\n",
      "18 500 Kč/měsíc\n",
      "16 500 Kč/měsíc\n",
      "9 500 Kč/měsíc\n",
      "12 000 Kč/měsíc\n",
      "9 000 Kč/měsíc\n",
      "14 000 Kč/měsíc\n",
      "12 800 Kč/měsíc\n",
      "Scrapuju stránku č. 4\n",
      "13 500 Kč/měsíc\n",
      "12 000 Kč/měsíc\n",
      "13 500 Kč/měsíc\n",
      "10 000 Kč/měsíc\n",
      "13 000 Kč/měsíc\n",
      "11 500 Kč/měsíc\n",
      "7 500 Kč/měsíc\n",
      "10 500 Kč/měsíc\n",
      "12 000 Kč/měsíc\n",
      "12 900 Kč/měsíc\n",
      "19 000 Kč/měsíc\n",
      "13 500 Kč/měsíc\n",
      "4 300 Kč/měsíc\n",
      "8 500 Kč/měsíc\n",
      "9 500 Kč/měsíc\n",
      "10 900 Kč/měsíc\n",
      "11 900 Kč/měsíc\n",
      "29 000 Kč/měsíc\n",
      "12 500 Kč/měsíc\n",
      "19 000 Kč/měsíc\n",
      "20 000 Kč/měsíc\n",
      "Scrapuju stránku č. 5\n",
      "13 500 Kč/měsíc\n",
      "16 000 Kč/měsíc\n",
      "16 000 Kč/měsíc\n",
      "21 000 Kč/měsíc\n",
      "6 500 Kč/měsíc\n",
      "15 000 Kč/měsíc\n",
      "14 650 Kč/měsíc\n",
      "18 000 Kč/měsíc\n",
      "14 000 Kč/měsíc\n",
      "14 900 Kč/měsíc\n",
      "6 500 Kč/měsíc\n",
      "8 000 Kč/měsíc\n",
      "10 600 Kč/měsíc\n",
      "16 900 Kč/měsíc\n",
      "14 000 Kč/měsíc\n",
      "13 900 Kč/měsíc\n",
      "12 150 Kč/měsíc\n",
      "17 000 Kč/měsíc\n",
      "17 000 Kč/měsíc\n",
      "18 700 Kč/měsíc\n",
      "13 500 Kč/měsíc\n",
      "Scrapuju stránku č. 6\n",
      "15 500 Kč/měsíc\n",
      "16 000 Kč/měsíc\n",
      "8 500 Kč/měsíc\n",
      "8 500 Kč/měsíc\n",
      "12 000 Kč/měsíc\n",
      "12 600 Kč/měsíc\n",
      "11 900 Kč/měsíc\n",
      "16 500 Kč/měsíc\n",
      "16 000 Kč/měsíc\n",
      "12 000 Kč/měsíc\n",
      "13 800 Kč/měsíc\n",
      "16 000 Kč/měsíc\n",
      "20 000 Kč/měsíc\n",
      "13 700 Kč/měsíc\n",
      "11 500 Kč/měsíc\n",
      "12 000 Kč/měsíc\n",
      "3 708 Kč/měsíc\n",
      "8 000 Kč/měsíc\n",
      "11 500 Kč/měsíc\n",
      "8 000 Kč/měsíc\n",
      "25 000 Kč/měsíc\n",
      "Scrapuju stránku č. 7\n",
      "15 500 Kč/měsíc\n",
      "25 000 Kč/měsíc\n",
      "14 500 Kč/měsíc\n",
      "12 000 Kč/měsíc\n",
      "4 200 Kč/měsíc\n",
      "7 000 Kč/měsíc\n",
      "17 000 Kč/měsíc\n",
      "13 000 Kč/měsíc\n",
      "4 000 Kč/měsíc\n",
      "15 000 Kč/měsíc\n",
      "15 900 Kč/měsíc\n",
      "12 000 Kč/měsíc\n",
      "9 100 Kč/měsíc\n",
      "13 000 Kč/měsíc\n",
      "22 000 Kč/měsíc\n",
      "14 000 Kč/měsíc\n",
      "15 000 Kč/měsíc\n",
      "13 000 Kč/měsíc\n",
      "11 000 Kč/měsíc\n",
      "14 000 Kč/měsíc\n",
      "12 500 Kč/měsíc\n",
      "Scrapuju stránku č. 8\n",
      "13 500 Kč/měsíc\n",
      "23 000 Kč/měsíc\n",
      "13 700 Kč/měsíc\n",
      "Cena na vyžádání\n",
      "12 000 Kč/měsíc\n",
      "16 606 Kč/měsíc\n",
      "20 000 Kč/měsíc\n",
      "18 000 Kč/měsíc\n",
      "19 000 Kč/měsíc\n",
      "39 900 Kč/měsíc\n",
      "13 900 Kč/měsíc\n",
      "Již zde není žádná další strana. Končím\n"
     ]
    }
   ],
   "source": [
    "def ziskej_cenu_bytu(text: str) -> tuple[str, int]:\n",
    "    cena = text.split()[2]\n",
    "    metry = text.split()[3]\n",
    "\n",
    "    return cena, metry\n",
    "\n",
    "from bs4 import BeautifulSoup\n",
    "import requests\n",
    "\n",
    "strana = 1\n",
    "byty_data = []\n",
    "\n",
    "while True:\n",
    "    data = requests.get(f'https://www.sreality.cz/hledani/pronajem/byty/zlin?strana={strana}').text\n",
    "    soup = BeautifulSoup(data, 'html.parser')\n",
    "    \n",
    "    byty = soup.findAll('li', 'MuiGrid-root MuiGrid-item css-l1328q') #Zde hledám byty na stránce, společné znaky.\n",
    "    \n",
    "    for byt in byty:\n",
    "        odkaz = byt.find('a', 'MuiTypography-root MuiTypography-inherit MuiLink-root MuiLink-underlineAlways css-1c7vz4z')['href']\n",
    "        #Ačkovy tag mi našel konkrétní detail bytu.\n",
    "        info_byty = byt.find('div', 'MuiBox-root css-n6y9a7') #Div tag mi našel souhrnné informace (kompo,cena, ulice)\n",
    "        if info_byty is None:\n",
    "            continue\n",
    "        byt_detail = info_byty.find('p',  'MuiTypography-root MuiTypography-body1 css-13ztabn').text #Kompozice\n",
    "        rozmery, kompozice = ziskej_cenu_bytu(byt_detail)\n",
    "        ulice_kompozice = info_byty.findAll('p', 'MuiTypography-root MuiTypography-body1 css-13ztabn') #Ulice\n",
    "        ulice = ulice_kompozice[1].text #Ulice_kompozice má stejný tag jako ulice, je zapotřebí indexovat.\n",
    "        cena = info_byty.find('p', 'MuiTypography-root MuiTypography-body1 css-1ndcg2e').text #Cena\n",
    "        print(cena)\n",
    "        byt_objekt = {\n",
    "            'Cena': cena,\n",
    "            'Kompozice bytu': kompozice,\n",
    "            'Rozměry bytu': rozmery,\n",
    "            'Lokace': ulice\n",
    "        }\n",
    "    \n",
    "        byty_data.append(byt_objekt)\n",
    "        \n",
    "    button = soup.find('button', 'MuiButtonBase-root MuiButton-root MuiButton-outlined MuiButton-outlinedInherit MuiButton-sizeMedium MuiButton-outlinedSizeMedium MuiButton-colorInherit MuiButton-root MuiButton-outlined MuiButton-outlinedInherit MuiButton-sizeMedium MuiButton-outlinedSizeMedium MuiButton-colorInherit css-lp5ywq').text\n",
    "        \n",
    "    if button != 'Další stránka':\n",
    "        print('Již zde není žádná další strana. Končím')\n",
    "        break        \n",
    "            \n",
    "    strana += 1\n",
    "        \n",
    "    print(f'Scrapuju stránku č. {strana}')\n"
   ]
  },
  {
   "cell_type": "code",
   "execution_count": 136,
   "id": "8ef17963",
   "metadata": {},
   "outputs": [],
   "source": [
    "df.to_csv('Velcovsky_zdrojová_data.csv', index=False, encoding='utf-8')"
   ]
  },
  {
   "cell_type": "markdown",
   "id": "f54576ab629fed11",
   "metadata": {},
   "source": [
    "### Datová analýza"
   ]
  },
  {
   "cell_type": "code",
   "execution_count": 1,
   "id": "4a2f14acc4baf746",
   "metadata": {},
   "outputs": [],
   "source": [
    "import pandas as pd\n",
    "df = pd.read_csv('Velcovsky_zdrojová_data.csv')"
   ]
  },
  {
   "cell_type": "code",
   "execution_count": 2,
   "id": "cb0af63f",
   "metadata": {},
   "outputs": [
    {
     "data": {
      "application/vnd.microsoft.datawrangler.viewer.v0+json": {
       "columns": [
        {
         "name": "index",
         "rawType": "int64",
         "type": "integer"
        },
        {
         "name": "Cena",
         "rawType": "object",
         "type": "string"
        },
        {
         "name": "Kompozice bytu",
         "rawType": "int64",
         "type": "integer"
        },
        {
         "name": "Rozměry bytu",
         "rawType": "object",
         "type": "string"
        },
        {
         "name": "Lokace",
         "rawType": "object",
         "type": "string"
        },
        {
         "name": "Čistá cena",
         "rawType": "int64",
         "type": "integer"
        },
        {
         "name": "Kategorie",
         "rawType": "object",
         "type": "string"
        }
       ],
       "conversionMethod": "pd.DataFrame",
       "ref": "e8ec6ee7-461b-4704-aa18-3021d4009536",
       "rows": [
        [
         "0",
         "19 000 Kč/měsíc",
         "73",
         "3+1",
         "Slezská, Zlín",
         "19000",
         "Nad 70 m²"
        ],
        [
         "1",
         "8 300 Kč/měsíc",
         "26",
         "1+kk",
         "Tečovská, Zlín - Malenovice",
         "8300",
         "Do 45 m²"
        ],
        [
         "2",
         "18 700 Kč/měsíc",
         "65",
         "2+kk",
         "Lorencova, Zlín",
         "18700",
         "45-70 m²"
        ],
        [
         "3",
         "12 000 Kč/měsíc",
         "56",
         "2+1",
         "Dlouhá, Zlín",
         "12000",
         "45-70 m²"
        ],
        [
         "4",
         "9 000 Kč/měsíc",
         "25",
         "1+1",
         "Vysoká, Zlín",
         "9000",
         "Do 45 m²"
        ]
       ],
       "shape": {
        "columns": 6,
        "rows": 5
       }
      },
      "text/html": [
       "<div>\n",
       "<style scoped>\n",
       "    .dataframe tbody tr th:only-of-type {\n",
       "        vertical-align: middle;\n",
       "    }\n",
       "\n",
       "    .dataframe tbody tr th {\n",
       "        vertical-align: top;\n",
       "    }\n",
       "\n",
       "    .dataframe thead th {\n",
       "        text-align: right;\n",
       "    }\n",
       "</style>\n",
       "<table border=\"1\" class=\"dataframe\">\n",
       "  <thead>\n",
       "    <tr style=\"text-align: right;\">\n",
       "      <th></th>\n",
       "      <th>Cena</th>\n",
       "      <th>Kompozice bytu</th>\n",
       "      <th>Rozměry bytu</th>\n",
       "      <th>Lokace</th>\n",
       "      <th>Čistá cena</th>\n",
       "      <th>Kategorie</th>\n",
       "    </tr>\n",
       "  </thead>\n",
       "  <tbody>\n",
       "    <tr>\n",
       "      <th>0</th>\n",
       "      <td>19 000 Kč/měsíc</td>\n",
       "      <td>73</td>\n",
       "      <td>3+1</td>\n",
       "      <td>Slezská, Zlín</td>\n",
       "      <td>19000</td>\n",
       "      <td>Nad 70 m²</td>\n",
       "    </tr>\n",
       "    <tr>\n",
       "      <th>1</th>\n",
       "      <td>8 300 Kč/měsíc</td>\n",
       "      <td>26</td>\n",
       "      <td>1+kk</td>\n",
       "      <td>Tečovská, Zlín - Malenovice</td>\n",
       "      <td>8300</td>\n",
       "      <td>Do 45 m²</td>\n",
       "    </tr>\n",
       "    <tr>\n",
       "      <th>2</th>\n",
       "      <td>18 700 Kč/měsíc</td>\n",
       "      <td>65</td>\n",
       "      <td>2+kk</td>\n",
       "      <td>Lorencova, Zlín</td>\n",
       "      <td>18700</td>\n",
       "      <td>45-70 m²</td>\n",
       "    </tr>\n",
       "    <tr>\n",
       "      <th>3</th>\n",
       "      <td>12 000 Kč/měsíc</td>\n",
       "      <td>56</td>\n",
       "      <td>2+1</td>\n",
       "      <td>Dlouhá, Zlín</td>\n",
       "      <td>12000</td>\n",
       "      <td>45-70 m²</td>\n",
       "    </tr>\n",
       "    <tr>\n",
       "      <th>4</th>\n",
       "      <td>9 000 Kč/měsíc</td>\n",
       "      <td>25</td>\n",
       "      <td>1+1</td>\n",
       "      <td>Vysoká, Zlín</td>\n",
       "      <td>9000</td>\n",
       "      <td>Do 45 m²</td>\n",
       "    </tr>\n",
       "  </tbody>\n",
       "</table>\n",
       "</div>"
      ],
      "text/plain": [
       "              Cena  Kompozice bytu Rozměry bytu                       Lokace  \\\n",
       "0  19 000 Kč/měsíc              73          3+1                Slezská, Zlín   \n",
       "1   8 300 Kč/měsíc              26         1+kk  Tečovská, Zlín - Malenovice   \n",
       "2  18 700 Kč/měsíc              65         2+kk              Lorencova, Zlín   \n",
       "3  12 000 Kč/měsíc              56          2+1                 Dlouhá, Zlín   \n",
       "4   9 000 Kč/měsíc              25          1+1                 Vysoká, Zlín   \n",
       "\n",
       "   Čistá cena  Kategorie  \n",
       "0       19000  Nad 70 m²  \n",
       "1        8300   Do 45 m²  \n",
       "2       18700   45-70 m²  \n",
       "3       12000   45-70 m²  \n",
       "4        9000   Do 45 m²  "
      ]
     },
     "execution_count": 2,
     "metadata": {},
     "output_type": "execute_result"
    }
   ],
   "source": [
    "df['Čistá cena'] = (\n",
    "    df['Cena'].str.replace(r'\\D', '', regex=True)  \n",
    "    .replace('', None)  # Nahrazení prázdných hodnot hodnotou None\n",
    "    .dropna()  # Odstranění prázdných řádků\n",
    "    .astype(int)  # Převod na číslo\n",
    ")\n",
    "# Odstranění řádků, kde je prázdná hodnota. V případě nabídky pronájmu se jedná o \"Cena na vyžádání\".\n",
    "df = df.dropna(subset=['Čistá cena'])\n",
    "df.head()\n",
    "\n"
   ]
  },
  {
   "cell_type": "markdown",
   "id": "65e1e3b5",
   "metadata": {},
   "source": [
    "Jaká je průměrná cena bytů nabízených bytů"
   ]
  },
  {
   "cell_type": "code",
   "execution_count": 3,
   "id": "e1d57360",
   "metadata": {},
   "outputs": [
    {
     "name": "stdout",
     "output_type": "stream",
     "text": [
      "Průměrná cena pronájmu v lokalitě Zlín je 14272.52 Kč. Mezi jednotlivé dispozice patří: 3+1, 1+kk, 2+kk, 2+1, 1+1, 3+kk, atypický, pokoje, 4+1, 4+kk.\n"
     ]
    }
   ],
   "source": [
    "prumerna_cena = df['Čistá cena'].mean().round(2)\n",
    "rozmery = \", \".join(df['Rozměry bytu'].unique())\n",
    "\n",
    "print(f'Průměrná cena pronájmu v lokalitě Zlín je {prumerna_cena} Kč. Mezi jednotlivé dispozice patří: {rozmery}.')"
   ]
  },
  {
   "cell_type": "markdown",
   "id": "b74e6f92",
   "metadata": {},
   "source": [
    "Seskupení podle 'Rozměry bytu' a výpočet průměrné ceny\n"
   ]
  },
  {
   "cell_type": "code",
   "execution_count": 4,
   "id": "8ff13825",
   "metadata": {},
   "outputs": [
    {
     "data": {
      "image/png": "[encoded data removed]",
      "text/plain": [
       "<Figure size 1000x600 with 1 Axes>"
      ]
     },
     "metadata": {},
     "output_type": "display_data"
    }
   ],
   "source": [
    "prumerna_cena = df.groupby('Rozměry bytu')['Čistá cena'].mean().round(2).reset_index()\n",
    "prumerna_cena_sorted = prumerna_cena.sort_values('Čistá cena', ascending=False)\n",
    "\n",
    "from matplotlib import pyplot as plt\n",
    "\n",
    "plt.figure(figsize=(10, 6))\n",
    "plt.bar(prumerna_cena_sorted['Rozměry bytu'], prumerna_cena_sorted['Čistá cena'], color='skyblue', edgecolor='black')\n",
    "plt.title('Average price of apartments according to availability in the city of Zlín', fontsize=16)\n",
    "plt.xlabel('Disposition of renting an apartment', fontsize=14)\n",
    "plt.ylabel('Rental price in CZK', fontsize=14)\n",
    "plt.xticks(rotation=45)\n",
    "plt.grid(axis='y', linestyle='--', alpha=0.7)\n",
    "\n",
    "plt.show()\n"
   ]
  },
  {
   "cell_type": "markdown",
   "id": "ffabea7b",
   "metadata": {},
   "source": [
    "Existuje ulice, kde je vyšší koncentrace dražších bytů? Varianta A)"
   ]
  },
  {
   "cell_type": "code",
   "execution_count": 5,
   "id": "145d8d87",
   "metadata": {},
   "outputs": [
    {
     "data": {
      "application/vnd.microsoft.datawrangler.viewer.v0+json": {
       "columns": [
        {
         "name": "Lokace",
         "rawType": "object",
         "type": "string"
        },
        {
         "name": "max",
         "rawType": "int64",
         "type": "integer"
        },
        {
         "name": "count",
         "rawType": "int64",
         "type": "integer"
        }
       ],
       "conversionMethod": "pd.DataFrame",
       "ref": "040a66dd-466f-42fb-9af4-24217d22236c",
       "rows": [
        [
         "Luhačovice",
         "39900",
         "9"
        ],
        [
         "třída Tomáše Bati, Zlín",
         "29000",
         "3"
        ],
        [
         "Smetanova, Zlín",
         "25000",
         "3"
        ],
        [
         "Na Honech I, Zlín",
         "25000",
         "1"
        ],
        [
         "Lešetín I, Zlín",
         "25000",
         "2"
        ]
       ],
       "shape": {
        "columns": 2,
        "rows": 5
       }
      },
      "text/html": [
       "<div>\n",
       "<style scoped>\n",
       "    .dataframe tbody tr th:only-of-type {\n",
       "        vertical-align: middle;\n",
       "    }\n",
       "\n",
       "    .dataframe tbody tr th {\n",
       "        vertical-align: top;\n",
       "    }\n",
       "\n",
       "    .dataframe thead th {\n",
       "        text-align: right;\n",
       "    }\n",
       "</style>\n",
       "<table border=\"1\" class=\"dataframe\">\n",
       "  <thead>\n",
       "    <tr style=\"text-align: right;\">\n",
       "      <th></th>\n",
       "      <th>max</th>\n",
       "      <th>count</th>\n",
       "    </tr>\n",
       "    <tr>\n",
       "      <th>Lokace</th>\n",
       "      <th></th>\n",
       "      <th></th>\n",
       "    </tr>\n",
       "  </thead>\n",
       "  <tbody>\n",
       "    <tr>\n",
       "      <th>Luhačovice</th>\n",
       "      <td>39900</td>\n",
       "      <td>9</td>\n",
       "    </tr>\n",
       "    <tr>\n",
       "      <th>třída Tomáše Bati, Zlín</th>\n",
       "      <td>29000</td>\n",
       "      <td>3</td>\n",
       "    </tr>\n",
       "    <tr>\n",
       "      <th>Smetanova, Zlín</th>\n",
       "      <td>25000</td>\n",
       "      <td>3</td>\n",
       "    </tr>\n",
       "    <tr>\n",
       "      <th>Na Honech I, Zlín</th>\n",
       "      <td>25000</td>\n",
       "      <td>1</td>\n",
       "    </tr>\n",
       "    <tr>\n",
       "      <th>Lešetín I, Zlín</th>\n",
       "      <td>25000</td>\n",
       "      <td>2</td>\n",
       "    </tr>\n",
       "  </tbody>\n",
       "</table>\n",
       "</div>"
      ],
      "text/plain": [
       "                           max  count\n",
       "Lokace                               \n",
       "Luhačovice               39900      9\n",
       "třída Tomáše Bati, Zlín  29000      3\n",
       "Smetanova, Zlín          25000      3\n",
       "Na Honech I, Zlín        25000      1\n",
       "Lešetín I, Zlín          25000      2"
      ]
     },
     "execution_count": 5,
     "metadata": {},
     "output_type": "execute_result"
    }
   ],
   "source": [
    "ulice = df.groupby('Lokace')['Čistá cena'].agg(['max','count'])\n",
    "\n",
    "def clean_data(ulice):\n",
    "    # Seřadit podle sloupce: 'max' (sestupně)\n",
    "    ulice = ulice.sort_values(['max'], ascending=[False])\n",
    "    return ulice\n",
    "ulice_clean = clean_data(ulice.copy())\n",
    "ulice_clean.head()# Odpověď: Luhačovice"
   ]
  },
  {
   "cell_type": "markdown",
   "id": "d65632b8",
   "metadata": {},
   "source": [
    "Existuje ulice, kde je vyšší koncentrace dražších bytů? Varianta B)\n"
   ]
  },
  {
   "cell_type": "code",
   "execution_count": 6,
   "id": "299113f9",
   "metadata": {},
   "outputs": [
    {
     "name": "stdout",
     "output_type": "stream",
     "text": [
      "Lokalita s nejvyšší koncentrací dražších bytů, dle zadaných parametrů více než 2 byty a průměrnou cenou nad 20 000 Kč je lokalita:\n"
     ]
    },
    {
     "data": {
      "application/vnd.microsoft.datawrangler.viewer.v0+json": {
       "columns": [
        {
         "name": "Lokace",
         "rawType": "object",
         "type": "string"
        },
        {
         "name": "mean",
         "rawType": "float64",
         "type": "float"
        },
        {
         "name": "count",
         "rawType": "int64",
         "type": "integer"
        },
        {
         "name": "max",
         "rawType": "int64",
         "type": "integer"
        }
       ],
       "conversionMethod": "pd.DataFrame",
       "ref": "e12983f9-5f02-4a9a-b8b1-9fe786f381b9",
       "rows": [
        [
         "Luhačovice",
         "20877.78",
         "9",
         "39900"
        ],
        [
         "třída Tomáše Bati, Zlín",
         "15502.67",
         "3",
         "29000"
        ],
        [
         "Smetanova, Zlín",
         "19333.33",
         "3",
         "25000"
        ],
        [
         "třída Svobody, Zlín - Malenovice",
         "14897.5",
         "4",
         "20690"
        ]
       ],
       "shape": {
        "columns": 3,
        "rows": 4
       }
      },
      "text/html": [
       "<div>\n",
       "<style scoped>\n",
       "    .dataframe tbody tr th:only-of-type {\n",
       "        vertical-align: middle;\n",
       "    }\n",
       "\n",
       "    .dataframe tbody tr th {\n",
       "        vertical-align: top;\n",
       "    }\n",
       "\n",
       "    .dataframe thead th {\n",
       "        text-align: right;\n",
       "    }\n",
       "</style>\n",
       "<table border=\"1\" class=\"dataframe\">\n",
       "  <thead>\n",
       "    <tr style=\"text-align: right;\">\n",
       "      <th></th>\n",
       "      <th>mean</th>\n",
       "      <th>count</th>\n",
       "      <th>max</th>\n",
       "    </tr>\n",
       "    <tr>\n",
       "      <th>Lokace</th>\n",
       "      <th></th>\n",
       "      <th></th>\n",
       "      <th></th>\n",
       "    </tr>\n",
       "  </thead>\n",
       "  <tbody>\n",
       "    <tr>\n",
       "      <th>Luhačovice</th>\n",
       "      <td>20877.78</td>\n",
       "      <td>9</td>\n",
       "      <td>39900</td>\n",
       "    </tr>\n",
       "    <tr>\n",
       "      <th>třída Tomáše Bati, Zlín</th>\n",
       "      <td>15502.67</td>\n",
       "      <td>3</td>\n",
       "      <td>29000</td>\n",
       "    </tr>\n",
       "    <tr>\n",
       "      <th>Smetanova, Zlín</th>\n",
       "      <td>19333.33</td>\n",
       "      <td>3</td>\n",
       "      <td>25000</td>\n",
       "    </tr>\n",
       "    <tr>\n",
       "      <th>třída Svobody, Zlín - Malenovice</th>\n",
       "      <td>14897.50</td>\n",
       "      <td>4</td>\n",
       "      <td>20690</td>\n",
       "    </tr>\n",
       "  </tbody>\n",
       "</table>\n",
       "</div>"
      ],
      "text/plain": [
       "                                      mean  count    max\n",
       "Lokace                                                  \n",
       "Luhačovice                        20877.78      9  39900\n",
       "třída Tomáše Bati, Zlín           15502.67      3  29000\n",
       "Smetanova, Zlín                   19333.33      3  25000\n",
       "třída Svobody, Zlín - Malenovice  14897.50      4  20690"
      ]
     },
     "execution_count": 6,
     "metadata": {},
     "output_type": "execute_result"
    }
   ],
   "source": [
    "\n",
    "# Seskupení podle 'Lokace' a výpočet agregovaných hodnot\n",
    "lokace_statistiky = df.groupby('Lokace')['Čistá cena'].agg(['mean', 'count', 'max']).round(2)\n",
    "\n",
    "# Seřazení podle průměrné ceny (od nejdražší)\n",
    "lokace_statistiky = lokace_statistiky.sort_values(by='max', ascending=False)\n",
    "\n",
    "# Výpis lokalit s více než 2 byty a průměrnou cenou nad 20 000 Kč\n",
    "drazsi_lokace = lokace_statistiky[(lokace_statistiky['max'] > 20000) & (lokace_statistiky['count'] > 2)]\n",
    "\n",
    "print(f'Lokalita s nejvyšší koncentrací dražších bytů, dle zadaných parametrů více než 2 byty a průměrnou cenou nad 20 000 Kč je lokalita:')\n",
    "drazsi_lokace\n"
   ]
  },
  {
   "cell_type": "code",
   "execution_count": 31,
   "id": "8b3b57b5",
   "metadata": {},
   "outputs": [
    {
     "data": {
      "application/vnd.plotly.v1+json": {
       "config": {
        "plotlyServerURL": "https://plot.ly"
       },
       "data": [
        {
         "hovertemplate": "<b>%{hovertext}</b><br><br>Průměrná cena (Kč)=%{marker.size}<br>Latitude=%{lat}<br>Longitude=%{lon}<extra></extra>",
         "hovertext": [
          "Luhačovice",
          "třída Tomáše Bati (Zlín)",
          "ulice Smetanova (Zlín)",
          "třída Svobody (Zlín-Malenovice)"
         ],
         "lat": [
          49.1007,
          49.2202,
          49.2237,
          49.2009
         ],
         "legendgroup": "",
         "lon": [
          17.7592,
          17.6659,
          17.6689,
          17.5898
         ],
         "marker": {
          "color": "#636efa",
          "size": [
           20877,
           15502.67,
           19333.33,
           14897.5
          ],
          "sizemode": "area",
          "sizeref": 52.1925
         },
         "mode": "markers",
         "name": "",
         "showlegend": false,
         "subplot": "mapbox",
         "type": "scattermapbox"
        }
       ],
       "layout": {
        "legend": {
         "itemsizing": "constant",
         "tracegroupgap": 0
        },
        "mapbox": {
         "center": {
          "lat": 49.186375,
          "lon": 17.67095
         },
         "domain": {
          "x": [
           0,
           1
          ],
          "y": [
           0,
           1
          ]
         },
         "style": "open-street-map",
         "zoom": 9
        },
        "template": {
         "data": {
          "bar": [
           {
            "error_x": {
             "color": "#2a3f5f"
            },
            "error_y": {
             "color": "#2a3f5f"
            },
            "marker": {
             "line": {
              "color": "#E5ECF6",
              "width": 0.5
             },
             "pattern": {
              "fillmode": "overlay",
              "size": 10,
              "solidity": 0.2
             }
            },
            "type": "bar"
           }
          ],
          "barpolar": [
           {
            "marker": {
             "line": {
              "color": "#E5ECF6",
              "width": 0.5
             },
             "pattern": {
              "fillmode": "overlay",
              "size": 10,
              "solidity": 0.2
             }
            },
            "type": "barpolar"
           }
          ],
          "carpet": [
           {
            "aaxis": {
             "endlinecolor": "#2a3f5f",
             "gridcolor": "white",
             "linecolor": "white",
             "minorgridcolor": "white",
             "startlinecolor": "#2a3f5f"
            },
            "baxis": {
             "endlinecolor": "#2a3f5f",
             "gridcolor": "white",
             "linecolor": "white",
             "minorgridcolor": "white",
             "startlinecolor": "#2a3f5f"
            },
            "type": "carpet"
           }
          ],
          "choropleth": [
           {
            "colorbar": {
             "outlinewidth": 0,
             "ticks": ""
            },
            "type": "choropleth"
           }
          ],
          "contour": [
           {
            "colorbar": {
             "outlinewidth": 0,
             "ticks": ""
            },
            "colorscale": [
             [
              0,
              "#0d0887"
             ],
             [
              0.1111111111111111,
              "#46039f"
             ],
             [
              0.2222222222222222,
              "#7201a8"
             ],
             [
              0.3333333333333333,
              "#9c179e"
             ],
             [
              0.4444444444444444,
              "#bd3786"
             ],
             [
              0.5555555555555556,
              "#d8576b"
             ],
             [
              0.6666666666666666,
              "#ed7953"
             ],
             [
              0.7777777777777778,
              "#fb9f3a"
             ],
             [
              0.8888888888888888,
              "#fdca26"
             ],
             [
              1,
              "#f0f921"
             ]
            ],
            "type": "contour"
           }
          ],
          "contourcarpet": [
           {
            "colorbar": {
             "outlinewidth": 0,
             "ticks": ""
            },
            "type": "contourcarpet"
           }
          ],
          "heatmap": [
           {
            "colorbar": {
             "outlinewidth": 0,
             "ticks": ""
            },
            "colorscale": [
             [
              0,
              "#0d0887"
             ],
             [
              0.1111111111111111,
              "#46039f"
             ],
             [
              0.2222222222222222,
              "#7201a8"
             ],
             [
              0.3333333333333333,
              "#9c179e"
             ],
             [
              0.4444444444444444,
              "#bd3786"
             ],
             [
              0.5555555555555556,
              "#d8576b"
             ],
             [
              0.6666666666666666,
              "#ed7953"
             ],
             [
              0.7777777777777778,
              "#fb9f3a"
             ],
             [
              0.8888888888888888,
              "#fdca26"
             ],
             [
              1,
              "#f0f921"
             ]
            ],
            "type": "heatmap"
           }
          ],
          "heatmapgl": [
           {
            "colorbar": {
             "outlinewidth": 0,
             "ticks": ""
            },
            "colorscale": [
             [
              0,
              "#0d0887"
             ],
             [
              0.1111111111111111,
              "#46039f"
             ],
             [
              0.2222222222222222,
              "#7201a8"
             ],
             [
              0.3333333333333333,
              "#9c179e"
             ],
             [
              0.4444444444444444,
              "#bd3786"
             ],
             [
              0.5555555555555556,
              "#d8576b"
             ],
             [
              0.6666666666666666,
              "#ed7953"
             ],
             [
              0.7777777777777778,
              "#fb9f3a"
             ],
             [
              0.8888888888888888,
              "#fdca26"
             ],
             [
              1,
              "#f0f921"
             ]
            ],
            "type": "heatmapgl"
           }
          ],
          "histogram": [
           {
            "marker": {
             "pattern": {
              "fillmode": "overlay",
              "size": 10,
              "solidity": 0.2
             }
            },
            "type": "histogram"
           }
          ],
          "histogram2d": [
           {
            "colorbar": {
             "outlinewidth": 0,
             "ticks": ""
            },
            "colorscale": [
             [
              0,
              "#0d0887"
             ],
             [
              0.1111111111111111,
              "#46039f"
             ],
             [
              0.2222222222222222,
              "#7201a8"
             ],
             [
              0.3333333333333333,
              "#9c179e"
             ],
             [
              0.4444444444444444,
              "#bd3786"
             ],
             [
              0.5555555555555556,
              "#d8576b"
             ],
             [
              0.6666666666666666,
              "#ed7953"
             ],
             [
              0.7777777777777778,
              "#fb9f3a"
             ],
             [
              0.8888888888888888,
              "#fdca26"
             ],
             [
              1,
              "#f0f921"
             ]
            ],
            "type": "histogram2d"
           }
          ],
          "histogram2dcontour": [
           {
            "colorbar": {
             "outlinewidth": 0,
             "ticks": ""
            },
            "colorscale": [
             [
              0,
              "#0d0887"
             ],
             [
              0.1111111111111111,
              "#46039f"
             ],
             [
              0.2222222222222222,
              "#7201a8"
             ],
             [
              0.3333333333333333,
              "#9c179e"
             ],
             [
              0.4444444444444444,
              "#bd3786"
             ],
             [
              0.5555555555555556,
              "#d8576b"
             ],
             [
              0.6666666666666666,
              "#ed7953"
             ],
             [
              0.7777777777777778,
              "#fb9f3a"
             ],
             [
              0.8888888888888888,
              "#fdca26"
             ],
             [
              1,
              "#f0f921"
             ]
            ],
            "type": "histogram2dcontour"
           }
          ],
          "mesh3d": [
           {
            "colorbar": {
             "outlinewidth": 0,
             "ticks": ""
            },
            "type": "mesh3d"
           }
          ],
          "parcoords": [
           {
            "line": {
             "colorbar": {
              "outlinewidth": 0,
              "ticks": ""
             }
            },
            "type": "parcoords"
           }
          ],
          "pie": [
           {
            "automargin": true,
            "type": "pie"
           }
          ],
          "scatter": [
           {
            "fillpattern": {
             "fillmode": "overlay",
             "size": 10,
             "solidity": 0.2
            },
            "type": "scatter"
           }
          ],
          "scatter3d": [
           {
            "line": {
             "colorbar": {
              "outlinewidth": 0,
              "ticks": ""
             }
            },
            "marker": {
             "colorbar": {
              "outlinewidth": 0,
              "ticks": ""
             }
            },
            "type": "scatter3d"
           }
          ],
          "scattercarpet": [
           {
            "marker": {
             "colorbar": {
              "outlinewidth": 0,
              "ticks": ""
             }
            },
            "type": "scattercarpet"
           }
          ],
          "scattergeo": [
           {
            "marker": {
             "colorbar": {
              "outlinewidth": 0,
              "ticks": ""
             }
            },
            "type": "scattergeo"
           }
          ],
          "scattergl": [
           {
            "marker": {
             "colorbar": {
              "outlinewidth": 0,
              "ticks": ""
             }
            },
            "type": "scattergl"
           }
          ],
          "scattermapbox": [
           {
            "marker": {
             "colorbar": {
              "outlinewidth": 0,
              "ticks": ""
             }
            },
            "type": "scattermapbox"
           }
          ],
          "scatterpolar": [
           {
            "marker": {
             "colorbar": {
              "outlinewidth": 0,
              "ticks": ""
             }
            },
            "type": "scatterpolar"
           }
          ],
          "scatterpolargl": [
           {
            "marker": {
             "colorbar": {
              "outlinewidth": 0,
              "ticks": ""
             }
            },
            "type": "scatterpolargl"
           }
          ],
          "scatterternary": [
           {
            "marker": {
             "colorbar": {
              "outlinewidth": 0,
              "ticks": ""
             }
            },
            "type": "scatterternary"
           }
          ],
          "surface": [
           {
            "colorbar": {
             "outlinewidth": 0,
             "ticks": ""
            },
            "colorscale": [
             [
              0,
              "#0d0887"
             ],
             [
              0.1111111111111111,
              "#46039f"
             ],
             [
              0.2222222222222222,
              "#7201a8"
             ],
             [
              0.3333333333333333,
              "#9c179e"
             ],
             [
              0.4444444444444444,
              "#bd3786"
             ],
             [
              0.5555555555555556,
              "#d8576b"
             ],
             [
              0.6666666666666666,
              "#ed7953"
             ],
             [
              0.7777777777777778,
              "#fb9f3a"
             ],
             [
              0.8888888888888888,
              "#fdca26"
             ],
             [
              1,
              "#f0f921"
             ]
            ],
            "type": "surface"
           }
          ],
          "table": [
           {
            "cells": {
             "fill": {
              "color": "#EBF0F8"
             },
             "line": {
              "color": "white"
             }
            },
            "header": {
             "fill": {
              "color": "#C8D4E3"
             },
             "line": {
              "color": "white"
             }
            },
            "type": "table"
           }
          ]
         },
         "layout": {
          "annotationdefaults": {
           "arrowcolor": "#2a3f5f",
           "arrowhead": 0,
           "arrowwidth": 1
          },
          "autotypenumbers": "strict",
          "coloraxis": {
           "colorbar": {
            "outlinewidth": 0,
            "ticks": ""
           }
          },
          "colorscale": {
           "diverging": [
            [
             0,
             "#8e0152"
            ],
            [
             0.1,
             "#c51b7d"
            ],
            [
             0.2,
             "#de77ae"
            ],
            [
             0.3,
             "#f1b6da"
            ],
            [
             0.4,
             "#fde0ef"
            ],
            [
             0.5,
             "#f7f7f7"
            ],
            [
             0.6,
             "#e6f5d0"
            ],
            [
             0.7,
             "#b8e186"
            ],
            [
             0.8,
             "#7fbc41"
            ],
            [
             0.9,
             "#4d9221"
            ],
            [
             1,
             "#276419"
            ]
           ],
           "sequential": [
            [
             0,
             "#0d0887"
            ],
            [
             0.1111111111111111,
             "#46039f"
            ],
            [
             0.2222222222222222,
             "#7201a8"
            ],
            [
             0.3333333333333333,
             "#9c179e"
            ],
            [
             0.4444444444444444,
             "#bd3786"
            ],
            [
             0.5555555555555556,
             "#d8576b"
            ],
            [
             0.6666666666666666,
             "#ed7953"
            ],
            [
             0.7777777777777778,
             "#fb9f3a"
            ],
            [
             0.8888888888888888,
             "#fdca26"
            ],
            [
             1,
             "#f0f921"
            ]
           ],
           "sequentialminus": [
            [
             0,
             "#0d0887"
            ],
            [
             0.1111111111111111,
             "#46039f"
            ],
            [
             0.2222222222222222,
             "#7201a8"
            ],
            [
             0.3333333333333333,
             "#9c179e"
            ],
            [
             0.4444444444444444,
             "#bd3786"
            ],
            [
             0.5555555555555556,
             "#d8576b"
            ],
            [
             0.6666666666666666,
             "#ed7953"
            ],
            [
             0.7777777777777778,
             "#fb9f3a"
            ],
            [
             0.8888888888888888,
             "#fdca26"
            ],
            [
             1,
             "#f0f921"
            ]
           ]
          },
          "colorway": [
           "#636efa",
           "#EF553B",
           "#00cc96",
           "#ab63fa",
           "#FFA15A",
           "#19d3f3",
           "#FF6692",
           "#B6E880",
           "#FF97FF",
           "#FECB52"
          ],
          "font": {
           "color": "#2a3f5f"
          },
          "geo": {
           "bgcolor": "white",
           "lakecolor": "white",
           "landcolor": "#E5ECF6",
           "showlakes": true,
           "showland": true,
           "subunitcolor": "white"
          },
          "hoverlabel": {
           "align": "left"
          },
          "hovermode": "closest",
          "mapbox": {
           "style": "light"
          },
          "paper_bgcolor": "white",
          "plot_bgcolor": "#E5ECF6",
          "polar": {
           "angularaxis": {
            "gridcolor": "white",
            "linecolor": "white",
            "ticks": ""
           },
           "bgcolor": "#E5ECF6",
           "radialaxis": {
            "gridcolor": "white",
            "linecolor": "white",
            "ticks": ""
           }
          },
          "scene": {
           "xaxis": {
            "backgroundcolor": "#E5ECF6",
            "gridcolor": "white",
            "gridwidth": 2,
            "linecolor": "white",
            "showbackground": true,
            "ticks": "",
            "zerolinecolor": "white"
           },
           "yaxis": {
            "backgroundcolor": "#E5ECF6",
            "gridcolor": "white",
            "gridwidth": 2,
            "linecolor": "white",
            "showbackground": true,
            "ticks": "",
            "zerolinecolor": "white"
           },
           "zaxis": {
            "backgroundcolor": "#E5ECF6",
            "gridcolor": "white",
            "gridwidth": 2,
            "linecolor": "white",
            "showbackground": true,
            "ticks": "",
            "zerolinecolor": "white"
           }
          },
          "shapedefaults": {
           "line": {
            "color": "#2a3f5f"
           }
          },
          "ternary": {
           "aaxis": {
            "gridcolor": "white",
            "linecolor": "white",
            "ticks": ""
           },
           "baxis": {
            "gridcolor": "white",
            "linecolor": "white",
            "ticks": ""
           },
           "bgcolor": "#E5ECF6",
           "caxis": {
            "gridcolor": "white",
            "linecolor": "white",
            "ticks": ""
           }
          },
          "title": {
           "x": 0.05
          },
          "xaxis": {
           "automargin": true,
           "gridcolor": "white",
           "linecolor": "white",
           "ticks": "",
           "title": {
            "standoff": 15
           },
           "zerolinecolor": "white",
           "zerolinewidth": 2
          },
          "yaxis": {
           "automargin": true,
           "gridcolor": "white",
           "linecolor": "white",
           "ticks": "",
           "title": {
            "standoff": 15
           },
           "zerolinecolor": "white",
           "zerolinewidth": 2
          }
         }
        },
        "title": {
         "text": "Průměrná cena pronájmu v Kč"
        }
       }
      }
     },
     "metadata": {},
     "output_type": "display_data"
    }
   ],
   "source": [
    "import plotly.express as px\n",
    "\n",
    "drazsi_lokace = pd.DataFrame({\n",
    "    \"Lokalita\": [\n",
    "        \"Luhačovice\",\n",
    "        \"třída Tomáše Bati (Zlín)\",\n",
    "        \"ulice Smetanova (Zlín)\",\n",
    "        \"třída Svobody (Zlín-Malenovice)\"\n",
    "    ],\n",
    "    \"Průměrná cena (Kč)\": [\n",
    "        20877,\n",
    "        15502.67,\n",
    "        19333.33,\n",
    "        14897.5\n",
    "    ]\n",
    "})\n",
    "\n",
    "drazsi_lokace[\"Latitude\"] = [49.1007, 49.2202, 49.2237, 49.2009]\n",
    "drazsi_lokace[\"Longitude\"] = [17.7592, 17.6659, 17.6689, 17.5898]\n",
    "\n",
    "data_lokace = drazsi_lokace.copy()\n",
    "\n",
    "fig = px.scatter_mapbox(\n",
    "    data_lokace,\n",
    "    lat=\"Latitude\",\n",
    "    lon=\"Longitude\",\n",
    "    size=\"Průměrná cena (Kč)\",\n",
    "    hover_name=\"Lokalita\",\n",
    "    title=\"Průměrná cena pronájmu v Kč\",\n",
    "    zoom=9,  # Upravte dle potřeby\n",
    "    mapbox_style=\"open-street-map\"\n",
    ")\n",
    "\n",
    "fig.show()"
   ]
  },
  {
   "cell_type": "markdown",
   "id": "1cd25a7b",
   "metadata": {},
   "source": [
    "Jaký typ kompozice je v daném městě nejčastěji inzerovan?\n",
    "Největší počet nabízených bytů je s rozlohou 45m2 (celkem 12 inzerovaných). \n",
    "Odpověď: Pravděpodobnou příčinou může být převis nabídky malometrážních bytů, které nejsou prioritní poptávkou rodin s dětmi. Alternativně může být vyšší poptávka po menších bytech od mladých lidí nebo jednotlivců."
   ]
  },
  {
   "cell_type": "code",
   "execution_count": 17,
   "id": "52dd5695",
   "metadata": {},
   "outputs": [
    {
     "name": "stdout",
     "output_type": "stream",
     "text": [
      "Kategorie\n",
      "45-70 m²     70\n",
      "Do 45 m²     46\n",
      "Nad 70 m²    30\n",
      "Name: count, dtype: int64\n"
     ]
    }
   ],
   "source": [
    "kompo = df['Kompozice bytu'].value_counts().reset_index()\n",
    "def categorize(kompo):\n",
    "    if kompo < 45:\n",
    "        return \"Do 45 m²\"\n",
    "    elif 45 <= kompo <= 70:\n",
    "        return \"45-70 m²\"\n",
    "    else:\n",
    "        return \"Nad 70 m²\"\n",
    "\n",
    "kompo['Kategorie'] = kompo['Kompozice bytu'].apply(categorize)\n",
    "kompo_final = kompo.groupby('Kategorie')['count'].sum()\n",
    "\n",
    "print(kompo_final)"
   ]
  },
  {
   "cell_type": "code",
   "execution_count": 25,
   "id": "29fb9679",
   "metadata": {},
   "outputs": [
    {
     "data": {
      "image/png": "[encoded data removed]",
      "text/plain": [
       "<Figure size 1500x1000 with 1 Axes>"
      ]
     },
     "metadata": {},
     "output_type": "display_data"
    }
   ],
   "source": [
    "plt.figure(figsize=(15, 10))\n",
    "\n",
    "plt.bar(kompo_final.index, kompo_final.values, color='skyblue', edgecolor='black')\n",
    "\n",
    "# Přidání hodnot nad sloupce\n",
    "for i, v in enumerate(kompo_final.values):\n",
    "    plt.text(i, v + 1, str(v), ha='center', fontsize=14, fontweight='bold')\n",
    "\n",
    "plt.xlabel('Category of apartments', fontsize=14)\n",
    "plt.ylabel('Count of apartments', fontsize=14)\n",
    "plt.title('Count of apartments by (m²)', fontsize=16)\n",
    "plt.grid(axis='y', linestyle='--', alpha=0.7)\n",
    "\n",
    "plt.show()"
   ]
  },
  {
   "cell_type": "markdown",
   "id": "501a62e3",
   "metadata": {},
   "source": [
    "Existují zde inzerce bytů, které stojí více, než 20.000,-? Pokud ano, jsou v této cenové hladině inzerovány i maximálně dvoupokojové byty (2+1/2+kk)?"
   ]
  },
  {
   "cell_type": "code",
   "execution_count": 145,
   "id": "291e327c",
   "metadata": {},
   "outputs": [
    {
     "data": {
      "text/html": [
       "<div>\n",
       "<style scoped>\n",
       "    .dataframe tbody tr th:only-of-type {\n",
       "        vertical-align: middle;\n",
       "    }\n",
       "\n",
       "    .dataframe tbody tr th {\n",
       "        vertical-align: top;\n",
       "    }\n",
       "\n",
       "    .dataframe thead th {\n",
       "        text-align: right;\n",
       "    }\n",
       "</style>\n",
       "<table border=\"1\" class=\"dataframe\">\n",
       "  <thead>\n",
       "    <tr style=\"text-align: right;\">\n",
       "      <th></th>\n",
       "      <th>Cena</th>\n",
       "      <th>Kompozice bytu</th>\n",
       "      <th>Rozměry bytu</th>\n",
       "      <th>Lokace</th>\n",
       "      <th>Čistá cena</th>\n",
       "      <th>Kategorie</th>\n",
       "    </tr>\n",
       "  </thead>\n",
       "  <tbody>\n",
       "    <tr>\n",
       "      <th>7</th>\n",
       "      <td>25 000 Kč/měsíc</td>\n",
       "      <td>96</td>\n",
       "      <td>2+kk</td>\n",
       "      <td>Lešetín I, Zlín</td>\n",
       "      <td>25000</td>\n",
       "      <td>Nad 70 m²</td>\n",
       "    </tr>\n",
       "    <tr>\n",
       "      <th>18</th>\n",
       "      <td>20 690 Kč/měsíc</td>\n",
       "      <td>64</td>\n",
       "      <td>2+kk</td>\n",
       "      <td>třída Svobody, Zlín - Malenovice</td>\n",
       "      <td>20690</td>\n",
       "      <td>45-70 m²</td>\n",
       "    </tr>\n",
       "    <tr>\n",
       "      <th>19</th>\n",
       "      <td>22 000 Kč/měsíc</td>\n",
       "      <td>85</td>\n",
       "      <td>2+kk</td>\n",
       "      <td>Luhačovice</td>\n",
       "      <td>22000</td>\n",
       "      <td>Nad 70 m²</td>\n",
       "    </tr>\n",
       "    <tr>\n",
       "      <th>36</th>\n",
       "      <td>22 000 Kč/měsíc</td>\n",
       "      <td>85</td>\n",
       "      <td>2+kk</td>\n",
       "      <td>Luhačovice</td>\n",
       "      <td>22000</td>\n",
       "      <td>Nad 70 m²</td>\n",
       "    </tr>\n",
       "    <tr>\n",
       "      <th>57</th>\n",
       "      <td>22 000 Kč/měsíc</td>\n",
       "      <td>85</td>\n",
       "      <td>2+kk</td>\n",
       "      <td>Luhačovice</td>\n",
       "      <td>22000</td>\n",
       "      <td>Nad 70 m²</td>\n",
       "    </tr>\n",
       "    <tr>\n",
       "      <th>99</th>\n",
       "      <td>22 000 Kč/měsíc</td>\n",
       "      <td>85</td>\n",
       "      <td>2+kk</td>\n",
       "      <td>Luhačovice</td>\n",
       "      <td>22000</td>\n",
       "      <td>Nad 70 m²</td>\n",
       "    </tr>\n",
       "    <tr>\n",
       "      <th>113</th>\n",
       "      <td>25 000 Kč/měsíc</td>\n",
       "      <td>111</td>\n",
       "      <td>2+kk</td>\n",
       "      <td>Smetanova, Zlín</td>\n",
       "      <td>25000</td>\n",
       "      <td>Nad 70 m²</td>\n",
       "    </tr>\n",
       "    <tr>\n",
       "      <th>128</th>\n",
       "      <td>22 000 Kč/měsíc</td>\n",
       "      <td>85</td>\n",
       "      <td>2+kk</td>\n",
       "      <td>Luhačovice</td>\n",
       "      <td>22000</td>\n",
       "      <td>Nad 70 m²</td>\n",
       "    </tr>\n",
       "    <tr>\n",
       "      <th>136</th>\n",
       "      <td>23 000 Kč/měsíc</td>\n",
       "      <td>120</td>\n",
       "      <td>2+kk</td>\n",
       "      <td>Nádražní, Luhačovice</td>\n",
       "      <td>23000</td>\n",
       "      <td>Nad 70 m²</td>\n",
       "    </tr>\n",
       "  </tbody>\n",
       "</table>\n",
       "</div>"
      ],
      "text/plain": [
       "                Cena  Kompozice bytu Rozměry bytu  \\\n",
       "7    25 000 Kč/měsíc              96         2+kk   \n",
       "18   20 690 Kč/měsíc              64         2+kk   \n",
       "19   22 000 Kč/měsíc              85         2+kk   \n",
       "36   22 000 Kč/měsíc              85         2+kk   \n",
       "57   22 000 Kč/měsíc              85         2+kk   \n",
       "99   22 000 Kč/měsíc              85         2+kk   \n",
       "113  25 000 Kč/měsíc             111         2+kk   \n",
       "128  22 000 Kč/měsíc              85         2+kk   \n",
       "136  23 000 Kč/měsíc             120         2+kk   \n",
       "\n",
       "                               Lokace  Čistá cena  Kategorie  \n",
       "7                     Lešetín I, Zlín       25000  Nad 70 m²  \n",
       "18   třída Svobody, Zlín - Malenovice       20690   45-70 m²  \n",
       "19                         Luhačovice       22000  Nad 70 m²  \n",
       "36                         Luhačovice       22000  Nad 70 m²  \n",
       "57                         Luhačovice       22000  Nad 70 m²  \n",
       "99                         Luhačovice       22000  Nad 70 m²  \n",
       "113                   Smetanova, Zlín       25000  Nad 70 m²  \n",
       "128                        Luhačovice       22000  Nad 70 m²  \n",
       "136              Nádražní, Luhačovice       23000  Nad 70 m²  "
      ]
     },
     "execution_count": 145,
     "metadata": {},
     "output_type": "execute_result"
    }
   ],
   "source": [
    "# Filtrace bytů s cenou vyšší než 20 000 Kč\n",
    "byty_nad_20000 = df[df['Čistá cena'] > 20000]\n",
    "# Zjištění, zda existují byty s dispozicemi 2+1 nebo 2+kk v této cenové hladině\n",
    "dva_pokoje = byty_nad_20000[byty_nad_20000['Rozměry bytu'].isin(['2+1', '2+kk'])]\n",
    "\n",
    "dva_pokoje"
   ]
  },
  {
   "cell_type": "markdown",
   "id": "9223ec6d",
   "metadata": {},
   "source": [
    "Jaká je minimální a maximální cena inzerce pro každou kompozici bytu. Která kompozice má největší rozptyl mezi minimální a maximální inzerovanou cenou?\n"
   ]
  },
  {
   "cell_type": "code",
   "execution_count": 128,
   "id": "ed5ee7c8",
   "metadata": {},
   "outputs": [
    {
     "data": {
      "text/html": [
       "<div>\n",
       "<style scoped>\n",
       "    .dataframe tbody tr th:only-of-type {\n",
       "        vertical-align: middle;\n",
       "    }\n",
       "\n",
       "    .dataframe tbody tr th {\n",
       "        vertical-align: top;\n",
       "    }\n",
       "\n",
       "    .dataframe thead th {\n",
       "        text-align: right;\n",
       "    }\n",
       "</style>\n",
       "<table border=\"1\" class=\"dataframe\">\n",
       "  <thead>\n",
       "    <tr style=\"text-align: right;\">\n",
       "      <th></th>\n",
       "      <th>min</th>\n",
       "      <th>max</th>\n",
       "      <th>rozptyl</th>\n",
       "    </tr>\n",
       "    <tr>\n",
       "      <th>Rozměry bytu</th>\n",
       "      <th></th>\n",
       "      <th></th>\n",
       "      <th></th>\n",
       "    </tr>\n",
       "  </thead>\n",
       "  <tbody>\n",
       "    <tr>\n",
       "      <th>pokoje</th>\n",
       "      <td>3708</td>\n",
       "      <td>10500</td>\n",
       "      <td>6792</td>\n",
       "    </tr>\n",
       "    <tr>\n",
       "      <th>atypický</th>\n",
       "      <td>7500</td>\n",
       "      <td>12000</td>\n",
       "      <td>4500</td>\n",
       "    </tr>\n",
       "    <tr>\n",
       "      <th>1+1</th>\n",
       "      <td>4200</td>\n",
       "      <td>13500</td>\n",
       "      <td>9300</td>\n",
       "    </tr>\n",
       "    <tr>\n",
       "      <th>1+kk</th>\n",
       "      <td>6500</td>\n",
       "      <td>14900</td>\n",
       "      <td>8400</td>\n",
       "    </tr>\n",
       "    <tr>\n",
       "      <th>2+1</th>\n",
       "      <td>9000</td>\n",
       "      <td>16500</td>\n",
       "      <td>7500</td>\n",
       "    </tr>\n",
       "    <tr>\n",
       "      <th>3+1</th>\n",
       "      <td>11900</td>\n",
       "      <td>19000</td>\n",
       "      <td>7100</td>\n",
       "    </tr>\n",
       "    <tr>\n",
       "      <th>4+1</th>\n",
       "      <td>19000</td>\n",
       "      <td>21000</td>\n",
       "      <td>2000</td>\n",
       "    </tr>\n",
       "    <tr>\n",
       "      <th>2+kk</th>\n",
       "      <td>9000</td>\n",
       "      <td>25000</td>\n",
       "      <td>16000</td>\n",
       "    </tr>\n",
       "    <tr>\n",
       "      <th>3+kk</th>\n",
       "      <td>13000</td>\n",
       "      <td>29000</td>\n",
       "      <td>16000</td>\n",
       "    </tr>\n",
       "    <tr>\n",
       "      <th>4+kk</th>\n",
       "      <td>39900</td>\n",
       "      <td>39900</td>\n",
       "      <td>0</td>\n",
       "    </tr>\n",
       "  </tbody>\n",
       "</table>\n",
       "</div>"
      ],
      "text/plain": [
       "                min    max  rozptyl\n",
       "Rozměry bytu                       \n",
       "pokoje         3708  10500     6792\n",
       "atypický       7500  12000     4500\n",
       "1+1            4200  13500     9300\n",
       "1+kk           6500  14900     8400\n",
       "2+1            9000  16500     7500\n",
       "3+1           11900  19000     7100\n",
       "4+1           19000  21000     2000\n",
       "2+kk           9000  25000    16000\n",
       "3+kk          13000  29000    16000\n",
       "4+kk          39900  39900        0"
      ]
     },
     "execution_count": 128,
     "metadata": {},
     "output_type": "execute_result"
    }
   ],
   "source": [
    "min_max_inzerce = df.groupby('Rozměry bytu')['Čistá cena'].agg(['min','max'])\n",
    "min_max_inzerce = min_max_inzerce.sort_values(['max'])\n",
    "\n",
    "rozptyl = min_max_inzerce.assign(rozptyl=lambda x: x['max'] - x['min'])\n",
    "rozptyl"
   ]
  },
  {
   "cell_type": "markdown",
   "id": "c06fb763",
   "metadata": {},
   "source": [
    "Jaké je  minimální a maximální cena inzerce pro každou kompozici bytu? Která kompozice má největší rozptyl mezi minimální a maximální inzerovanou cenou?\n"
   ]
  },
  {
   "cell_type": "code",
   "execution_count": 133,
   "id": "e6b25cb3",
   "metadata": {},
   "outputs": [
    {
     "name": "stdout",
     "output_type": "stream",
     "text": [
      "Kompozice bytů s největším rozptylem:\n",
      "                min    max  rozptyl\n",
      "Rozměry bytu                       \n",
      "2+kk           9000  25000    16000\n",
      "3+kk          13000  29000    16000\n"
     ]
    }
   ],
   "source": [
    "# Seskupení podle 'Rozměry bytu' a výpočet minimální, maximální ceny a rozptylu\n",
    "kompozice_stat = (\n",
    "    df.groupby('Rozměry bytu')['Čistá cena']\n",
    "    .agg(['min', 'max'])  # Výpočet minimální a maximální ceny\n",
    "    .assign(rozptyl=lambda x: x['max'] - x['min'])  # Přidání sloupce pro rozptyl\n",
    ")\n",
    "\n",
    "nejvetsi_rozptyl = kompozice_stat[kompozice_stat['rozptyl'] == kompozice_stat['rozptyl'].max()]\n",
    "print(\"Kompozice bytů s největším rozptylem:\")\n",
    "print(nejvetsi_rozptyl)"
   ]
  }
 ],
 "metadata": {
  "kernelspec": {
   "display_name": "base",
   "language": "python",
   "name": "python3"
  },
  "language_info": {
   "codemirror_mode": {
    "name": "ipython",
    "version": 3
   },
   "file_extension": ".py",
   "mimetype": "text/x-python",
   "name": "python",
   "nbconvert_exporter": "python",
   "pygments_lexer": "ipython3",
   "version": "3.12.7"
  }
 },
 "nbformat": 4,
 "nbformat_minor": 5
}
